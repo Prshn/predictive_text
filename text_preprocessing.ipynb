{
 "cells": [
  {
   "cell_type": "code",
   "execution_count": 1,
   "id": "8b0a6f0d",
   "metadata": {},
   "outputs": [
    {
     "data": {
      "text/plain": [
       "'\\ninput: a pdf file of a book or something\\noutput: txt file with tokenized text\\n'"
      ]
     },
     "execution_count": 1,
     "metadata": {},
     "output_type": "execute_result"
    }
   ],
   "source": [
    "\"\"\"\n",
    "input: a pdf file of a book or something\n",
    "output: txt file with tokenized text\n",
    "\"\"\""
   ]
  },
  {
   "cell_type": "code",
   "execution_count": 1,
   "id": "33d86e02",
   "metadata": {},
   "outputs": [],
   "source": [
    "from pdfminer.high_level import extract_text"
   ]
  },
  {
   "cell_type": "code",
   "execution_count": 2,
   "id": "6efd5dc1",
   "metadata": {},
   "outputs": [],
   "source": [
    "def pdf_to_text(pdf_path):\n",
    "    text = extract_text(pdf_path)\n",
    "    return text"
   ]
  },
  {
   "cell_type": "code",
   "execution_count": 37,
   "id": "9735474d",
   "metadata": {},
   "outputs": [],
   "source": [
    "import re\n",
    "from nltk.tokenize import sent_tokenize, word_tokenize\n",
    "\n",
    "def preprocess_text(text):\n",
    "    # Remove standalone line numbers and bullet points\n",
    "    text = re.sub(r'^\\d+\\.\\s+', '', text, flags=re.MULTILINE)\n",
    "    text = re.sub(r'^\\*\\s+', '', text, flags=re.MULTILINE)  # if bullet points exist\n",
    "\n",
    "    # Remove all lines that don't contain a lowercase letter (likely headings or titles)\n",
    "    text = re.sub(r'^(?![a-z]).*\\n', '', text, flags=re.MULTILINE)\n",
    "\n",
    "    # Replace multiple newlines with just one (after the previous removals)\n",
    "    text = re.sub(r'\\n\\n+', '\\n', text)\n",
    "\n",
    "    # Remove equations and formulas assuming they may start with common math symbols\n",
    "    # This regex is very basic and would need to be tailored to the specific formatting of your equations\n",
    "    text = re.sub(r'\\b[\\d+-/*=]+\\b', '', text)\n",
    "\n",
    "    # Tokenize into sentences\n",
    "    sentences = sent_tokenize(text)\n",
    "    \n",
    "    # Join sentences to form the full text\n",
    "    full_text = ' '.join(sentences)\n",
    "    \n",
    "    # Remove punctuation and numbers\n",
    "    full_text = re.sub(r'[.,/\"\\'\\[\\]:;()?!-]', '', full_text)  # Removes specified punctuation\n",
    "    full_text = re.sub(r'\\b\\d+\\b', '', full_text)  # Removes standalone numbers\n",
    "\n",
    "    # Strip leading and trailing whitespace that may have been left by the removals\n",
    "    processed_text = full_text.strip()\n",
    "\n",
    "    return processed_text\n"
   ]
  },
  {
   "cell_type": "code",
   "execution_count": 19,
   "id": "666135e7",
   "metadata": {},
   "outputs": [],
   "source": [
    "text = pdf_to_text('book_pdf/cs_book/bible_moserAn-Open-Guide-to-Data-Structures-and-Algorithms-1698234730_2023.pdf')"
   ]
  },
  {
   "cell_type": "code",
   "execution_count": 38,
   "id": "3356c497",
   "metadata": {},
   "outputs": [],
   "source": [
    "text_processed = preprocess_text(text)"
   ]
  },
  {
   "cell_type": "code",
   "execution_count": 39,
   "id": "6f90df08",
   "metadata": {},
   "outputs": [
    {
     "name": "stdout",
     "output_type": "stream",
     "text": [
      "licensed under a Creative Commons Attribution  International License except \n",
      "where otherwise noted vii \n",
      "viii \n",
      "through the Private Academic Library Network of Indiana PALNI \n",
      "the Lilly Endowment Inc For more information about the PALSave \n",
      "bar at the bottom of the page to page forward and back textbook please send them to palsave@palniedu manager for the textbook creation process We would also like to \n",
      "thank  Amanda  Hurford  with  the  PALNI  team  for  working  with  us \n",
      "when  we  encountered  challenges  along  the  way We  owe  a  great \n",
      "debt to our reviewers Dr Joshua Kiers and Dr Aaron Boudreaux for \n",
      "their helpful suggestions and key insights that drastically improved \n",
      "our  initial  draft We  would  like  to  also  thank  Matthew  Furber  for \n",
      "offering  graphic  design  advice  as  well  as  introducing  us  to  our \n",
      "fabulous  illustrator  Mia  M  Scarlato Additionally  we  would  like \n",
      "to thank our department chair Dr Matt DeLong for his constant \n",
      "support  of  our  efforts  to  dri\n"
     ]
    }
   ],
   "source": [
    "print(text_processed[:1000])"
   ]
  },
  {
   "cell_type": "code",
   "execution_count": 40,
   "id": "9b6a2458",
   "metadata": {},
   "outputs": [],
   "source": [
    "with open('clean_text.txt', 'w', encoding = 'utf-8') as f_out:\n",
    "    f_out.write(text_processed)"
   ]
  },
  {
   "cell_type": "code",
   "execution_count": null,
   "id": "70e9f824",
   "metadata": {},
   "outputs": [],
   "source": []
  }
 ],
 "metadata": {
  "kernelspec": {
   "display_name": "Python 3 (ipykernel)",
   "language": "python",
   "name": "python3"
  },
  "language_info": {
   "codemirror_mode": {
    "name": "ipython",
    "version": 3
   },
   "file_extension": ".py",
   "mimetype": "text/x-python",
   "name": "python",
   "nbconvert_exporter": "python",
   "pygments_lexer": "ipython3",
   "version": "3.11.5"
  }
 },
 "nbformat": 4,
 "nbformat_minor": 5
}
